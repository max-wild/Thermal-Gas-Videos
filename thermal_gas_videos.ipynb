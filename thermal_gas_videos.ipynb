{
  "nbformat": 4,
  "nbformat_minor": 0,
  "metadata": {
    "colab": {
      "name": "thermal_gas_videos.ipynb",
      "provenance": [],
      "collapsed_sections": []
    },
    "kernelspec": {
      "name": "python3",
      "display_name": "Python 3"
    },
    "language_info": {
      "name": "python"
    },
    "accelerator": "GPU",
    "gpuClass": "standard"
  },
  "cells": [
    {
      "cell_type": "markdown",
      "source": [
        "# Rendering Thermal Videos of Gas\n",
        "Using this notebook will allow you to create 128x128 pixel videos of gas, such as [this example here](https://github.com/max-wild/Thermal-Gas-Videos/tree/main/examples):\n",
        "\n",
        "<br>\n",
        "\n",
        "<center><img src=\"https://github.com/max-wild/Thermal-Gas-Videos/raw/main/examples/example.gif\"></center>\n",
        "\n",
        "<br>\n",
        "\n",
        "First, you need to **edit** and **run** the contents of the first cell to\n",
        "\n",
        "*   Let this notebook access google drive files\n",
        "*   Set up the parameters for video generation \n",
        "\n",
        "    &emsp;&emsp; (e.g. slideshow of .png images versus one .mp4 file)\n",
        "\n",
        "\n"
      ],
      "metadata": {
        "id": "oSpJeinQvK6I"
      }
    },
    {
      "cell_type": "code",
      "source": [
        "#@title Parameters for Video Generation\n",
        "\n",
        "\n",
        "# How many frames per second are used in the video\n",
        "fps = \"30\"  #@param [24, 25, 30, 50, 60, 120, 240] {allow-input: true}\n",
        "\n",
        "# How many seconds are rendered\n",
        "seconds = 5  #@param {type: \"integer\"}\n",
        "\n",
        "# How many videos of different gas scenarios are rendered\n",
        "video_count = 1  #@param {type: \"integer\"}\n",
        "\n",
        "# Generate a collection of gas images instead of a cohesive gas video\n",
        "render_image_slideshow = False  #@param {type: \"boolean\"}\n",
        "\n",
        "output_dir = '/content/drive/MyDrive/gas_videos/'  #@param {type: \"string\"}\n",
        "\n",
        "\n",
        "# Getting access to google drive\n",
        "from google.colab import drive\n",
        "drive.mount('/content/drive')"
      ],
      "metadata": {
        "colab": {
          "base_uri": "https://localhost:8080/"
        },
        "id": "tf22C-BhwEP9",
        "outputId": "100dfef4-4bbf-462c-897c-1f15a417714a"
      },
      "execution_count": null,
      "outputs": [
        {
          "output_type": "stream",
          "name": "stdout",
          "text": [
            "Drive already mounted at /content/drive; to attempt to forcibly remount, call drive.mount(\"/content/drive\", force_remount=True).\n"
          ]
        }
      ]
    },
    {
      "cell_type": "markdown",
      "source": [
        "## Setting Up the Environment"
      ],
      "metadata": {
        "id": "zHksDsyZ3Nx1"
      }
    },
    {
      "cell_type": "code",
      "source": [
        "# Asserting the GPU is enabled\n",
        "import tensorflow as tf\n",
        "assert(tf.test.gpu_device_name() == '/device:GPU:0')\n",
        "\n",
        "fps = round(fps)\n",
        "seconds = round(seconds)\n",
        "video_count = round(video_count)"
      ],
      "metadata": {
        "id": "VBfKMR8W8GM1"
      },
      "execution_count": null,
      "outputs": []
    },
    {
      "cell_type": "code",
      "source": [
        "# Fix for a known bug when using blender with colab\n",
        "import os\n",
        "\n",
        "os.environ[\"LD_PRELOAD\"] = \"\"\n",
        "\n",
        "!apt remove libtcmalloc-minimal4\n",
        "!apt install libtcmalloc-minimal4\n",
        "\n",
        "os.environ[\"LD_PRELOAD\"] = \"/usr/lib/x86_64-linux-gnu/libtcmalloc_minimal.so.4.3.0\"\n",
        "!apt install libboost-all-dev\n",
        "!apt install libgl1-mesa-dev \n",
        "!apt install libglu1-mesa libsm-dev"
      ],
      "metadata": {
        "id": "RF2mLlXi91-C"
      },
      "execution_count": null,
      "outputs": []
    },
    {
      "cell_type": "markdown",
      "source": [
        "## Getting Necessary Files"
      ],
      "metadata": {
        "id": "DL08HFLO3Jio"
      }
    },
    {
      "cell_type": "code",
      "execution_count": null,
      "metadata": {
        "colab": {
          "base_uri": "https://localhost:8080/"
        },
        "id": "xO01eJsX36Kt",
        "outputId": "1b0480d4-124b-4caa-de65-df8955c7c98a"
      },
      "outputs": [
        {
          "output_type": "stream",
          "name": "stdout",
          "text": [
            "--2022-08-23 15:29:06--  https://download.blender.org/release/Blender3.2/blender-3.2.2-linux-x64.tar.xz\n",
            "Resolving download.blender.org (download.blender.org)... 82.94.213.221\n",
            "Connecting to download.blender.org (download.blender.org)|82.94.213.221|:443... connected.\n",
            "HTTP request sent, awaiting response... 200 OK\n",
            "Length: 191760080 (183M) [application/octet-stream]\n",
            "Saving to: ‘blender-3.2.2-linux-x64.tar.xz’\n",
            "\n",
            "blender-3.2.2-linux 100%[===================>] 182.88M  6.65MB/s    in 21s     \n",
            "\n",
            "2022-08-23 15:29:26 (8.92 MB/s) - ‘blender-3.2.2-linux-x64.tar.xz’ saved [191760080/191760080]\n",
            "\n"
          ]
        },
        {
          "output_type": "execute_result",
          "data": {
            "text/plain": [
              ""
            ]
          },
          "metadata": {},
          "execution_count": 4
        }
      ],
      "source": [
        "%%shell\n",
        "# -------- Installing blender -------- #\n",
        "\n",
        "BLEND_DIR=\"/blender-3.2.2-linux-x64/\"\n",
        "\n",
        "# Download blender zip \n",
        "if [ ! -f \"blender-3.2.2-linux-x64.tar.xz\" ]; then\n",
        "  wget -nc https://download.blender.org/release/Blender3.2/blender-3.2.2-linux-x64.tar.xz\n",
        "fi\n",
        "\n",
        "# If the blend tar hasn't been unzipped, then unzip it\n",
        "[ ! -d \"$BLEND_DIR\" ] && tar -xf blender-3.2.2-linux-x64.tar.xz"
      ]
    },
    {
      "cell_type": "code",
      "source": [
        "# Get the rendering files\n",
        "\n",
        "!mkdir setup\n",
        "%cd setup \n",
        "\n",
        "!wget https://github.com/max-wild/Thermal-Gas-Videos/raw/main/gas_scene.blend\n",
        "!wget https://github.com/max-wild/Thermal-Gas-Videos/raw/main/render_video.py\n",
        "\n",
        "%cd /content/"
      ],
      "metadata": {
        "id": "EOh93Ol9LOO0",
        "colab": {
          "base_uri": "https://localhost:8080/"
        },
        "outputId": "e38c6098-314b-49b4-afca-8756e6f51089"
      },
      "execution_count": null,
      "outputs": [
        {
          "output_type": "stream",
          "name": "stdout",
          "text": [
            "/content/setup\n",
            "--2022-08-23 16:49:10--  https://github.com/max-wild/Thermal-Gas-Videos/raw/main/gas_scene.blend\n",
            "Resolving github.com (github.com)... 140.82.121.3\n",
            "Connecting to github.com (github.com)|140.82.121.3|:443... connected.\n",
            "HTTP request sent, awaiting response... 302 Found\n",
            "Location: https://raw.githubusercontent.com/max-wild/Thermal-Gas-Videos/main/gas_scene.blend [following]\n",
            "--2022-08-23 16:49:10--  https://raw.githubusercontent.com/max-wild/Thermal-Gas-Videos/main/gas_scene.blend\n",
            "Resolving raw.githubusercontent.com (raw.githubusercontent.com)... 185.199.108.133, 185.199.109.133, 185.199.110.133, ...\n",
            "Connecting to raw.githubusercontent.com (raw.githubusercontent.com)|185.199.108.133|:443... connected.\n",
            "HTTP request sent, awaiting response... 200 OK\n",
            "Length: 1100492 (1.0M) [application/octet-stream]\n",
            "Saving to: ‘gas_scene.blend’\n",
            "\n",
            "gas_scene.blend     100%[===================>]   1.05M  --.-KB/s    in 0.02s   \n",
            "\n",
            "2022-08-23 16:49:10 (59.4 MB/s) - ‘gas_scene.blend’ saved [1100492/1100492]\n",
            "\n",
            "--2022-08-23 16:49:10--  https://github.com/max-wild/Thermal-Gas-Videos/raw/main/render_video.py\n",
            "Resolving github.com (github.com)... 140.82.121.3\n",
            "Connecting to github.com (github.com)|140.82.121.3|:443... connected.\n",
            "HTTP request sent, awaiting response... 302 Found\n",
            "Location: https://raw.githubusercontent.com/max-wild/Thermal-Gas-Videos/main/render_video.py [following]\n",
            "--2022-08-23 16:49:11--  https://raw.githubusercontent.com/max-wild/Thermal-Gas-Videos/main/render_video.py\n",
            "Resolving raw.githubusercontent.com (raw.githubusercontent.com)... 185.199.108.133, 185.199.110.133, 185.199.111.133, ...\n",
            "Connecting to raw.githubusercontent.com (raw.githubusercontent.com)|185.199.108.133|:443... connected.\n",
            "HTTP request sent, awaiting response... 200 OK\n",
            "Length: 11515 (11K) [text/plain]\n",
            "Saving to: ‘render_video.py’\n",
            "\n",
            "render_video.py     100%[===================>]  11.25K  --.-KB/s    in 0s      \n",
            "\n",
            "2022-08-23 16:49:11 (78.5 MB/s) - ‘render_video.py’ saved [11515/11515]\n",
            "\n",
            "/content\n"
          ]
        }
      ]
    },
    {
      "cell_type": "markdown",
      "source": [
        "## Shell Command to Render Thermal Gas Videos"
      ],
      "metadata": {
        "id": "L5eRBzAG48dR"
      }
    },
    {
      "cell_type": "code",
      "source": [
        "blend_dir = '/content/blender-3.2.2-linux-x64/blender'\n",
        "\n",
        "!{blend_dir} setup/gas_scene.blend --background --python setup/render_video.py -- -f {fps} -s {seconds} -v {video_count} -r {render_image_slideshow} -o {output_dir}"
      ],
      "metadata": {
        "id": "J-FyoI824LcU"
      },
      "execution_count": null,
      "outputs": []
    }
  ]
}